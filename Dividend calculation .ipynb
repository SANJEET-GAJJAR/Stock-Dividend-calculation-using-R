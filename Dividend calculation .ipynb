{
 "cells": [
  {
   "cell_type": "code",
   "execution_count": 287,
   "metadata": {},
   "outputs": [],
   "source": [
    "library(\"dplyr\")"
   ]
  },
  {
   "cell_type": "markdown",
   "metadata": {},
   "source": [
    "# IBM"
   ]
  },
  {
   "cell_type": "code",
   "execution_count": 288,
   "metadata": {},
   "outputs": [
    {
     "data": {
      "text/html": [
       "<table class=\"dataframe\">\n",
       "<caption>A data.frame: 6 × 7</caption>\n",
       "<thead>\n",
       "\t<tr><th></th><th scope=col>Date</th><th scope=col>Open</th><th scope=col>High</th><th scope=col>Low</th><th scope=col>Close</th><th scope=col>Adj.Close</th><th scope=col>Volume</th></tr>\n",
       "\t<tr><th></th><th scope=col>&lt;fct&gt;</th><th scope=col>&lt;dbl&gt;</th><th scope=col>&lt;dbl&gt;</th><th scope=col>&lt;dbl&gt;</th><th scope=col>&lt;dbl&gt;</th><th scope=col>&lt;dbl&gt;</th><th scope=col>&lt;int&gt;</th></tr>\n",
       "</thead>\n",
       "<tbody>\n",
       "\t<tr><th scope=row>1</th><td>2018-01-02</td><td>147.7056</td><td>148.0019</td><td>146.7878</td><td>147.4665</td><td>121.7915</td><td>4395815</td></tr>\n",
       "\t<tr><th scope=row>2</th><td>2018-01-03</td><td>150.4207</td><td>152.7820</td><td>149.4551</td><td>151.5201</td><td>125.1393</td><td>9875914</td></tr>\n",
       "\t<tr><th scope=row>3</th><td>2018-01-04</td><td>152.6291</td><td>155.1816</td><td>152.3614</td><td>154.5889</td><td>127.6738</td><td>7903785</td></tr>\n",
       "\t<tr><th scope=row>4</th><td>2018-01-05</td><td>155.2964</td><td>155.7361</td><td>154.0153</td><td>155.3442</td><td>128.2976</td><td>5434807</td></tr>\n",
       "\t<tr><th scope=row>5</th><td>2018-01-08</td><td>155.5067</td><td>156.7017</td><td>154.5889</td><td>156.2811</td><td>129.0714</td><td>5478425</td></tr>\n",
       "\t<tr><th scope=row>6</th><td>2018-01-09</td><td>156.6922</td><td>157.2944</td><td>155.8891</td><td>156.6252</td><td>129.3556</td><td>4541523</td></tr>\n",
       "</tbody>\n",
       "</table>\n"
      ],
      "text/latex": [
       "A data.frame: 6 × 7\n",
       "\\begin{tabular}{r|lllllll}\n",
       "  & Date & Open & High & Low & Close & Adj.Close & Volume\\\\\n",
       "  & <fct> & <dbl> & <dbl> & <dbl> & <dbl> & <dbl> & <int>\\\\\n",
       "\\hline\n",
       "\t1 & 2018-01-02 & 147.7056 & 148.0019 & 146.7878 & 147.4665 & 121.7915 & 4395815\\\\\n",
       "\t2 & 2018-01-03 & 150.4207 & 152.7820 & 149.4551 & 151.5201 & 125.1393 & 9875914\\\\\n",
       "\t3 & 2018-01-04 & 152.6291 & 155.1816 & 152.3614 & 154.5889 & 127.6738 & 7903785\\\\\n",
       "\t4 & 2018-01-05 & 155.2964 & 155.7361 & 154.0153 & 155.3442 & 128.2976 & 5434807\\\\\n",
       "\t5 & 2018-01-08 & 155.5067 & 156.7017 & 154.5889 & 156.2811 & 129.0714 & 5478425\\\\\n",
       "\t6 & 2018-01-09 & 156.6922 & 157.2944 & 155.8891 & 156.6252 & 129.3556 & 4541523\\\\\n",
       "\\end{tabular}\n"
      ],
      "text/markdown": [
       "\n",
       "A data.frame: 6 × 7\n",
       "\n",
       "| <!--/--> | Date &lt;fct&gt; | Open &lt;dbl&gt; | High &lt;dbl&gt; | Low &lt;dbl&gt; | Close &lt;dbl&gt; | Adj.Close &lt;dbl&gt; | Volume &lt;int&gt; |\n",
       "|---|---|---|---|---|---|---|---|\n",
       "| 1 | 2018-01-02 | 147.7056 | 148.0019 | 146.7878 | 147.4665 | 121.7915 | 4395815 |\n",
       "| 2 | 2018-01-03 | 150.4207 | 152.7820 | 149.4551 | 151.5201 | 125.1393 | 9875914 |\n",
       "| 3 | 2018-01-04 | 152.6291 | 155.1816 | 152.3614 | 154.5889 | 127.6738 | 7903785 |\n",
       "| 4 | 2018-01-05 | 155.2964 | 155.7361 | 154.0153 | 155.3442 | 128.2976 | 5434807 |\n",
       "| 5 | 2018-01-08 | 155.5067 | 156.7017 | 154.5889 | 156.2811 | 129.0714 | 5478425 |\n",
       "| 6 | 2018-01-09 | 156.6922 | 157.2944 | 155.8891 | 156.6252 | 129.3556 | 4541523 |\n",
       "\n"
      ],
      "text/plain": [
       "  Date       Open     High     Low      Close    Adj.Close Volume \n",
       "1 2018-01-02 147.7056 148.0019 146.7878 147.4665 121.7915  4395815\n",
       "2 2018-01-03 150.4207 152.7820 149.4551 151.5201 125.1393  9875914\n",
       "3 2018-01-04 152.6291 155.1816 152.3614 154.5889 127.6738  7903785\n",
       "4 2018-01-05 155.2964 155.7361 154.0153 155.3442 128.2976  5434807\n",
       "5 2018-01-08 155.5067 156.7017 154.5889 156.2811 129.0714  5478425\n",
       "6 2018-01-09 156.6922 157.2944 155.8891 156.6252 129.3556  4541523"
      ]
     },
     "metadata": {},
     "output_type": "display_data"
    }
   ],
   "source": [
    "IBM <- read.csv(\"IBM (3).csv\")\n",
    "head(IBM)"
   ]
  },
  {
   "cell_type": "code",
   "execution_count": 290,
   "metadata": {},
   "outputs": [
    {
     "data": {
      "text/html": [
       "<table class=\"dataframe\">\n",
       "<caption>A data.frame: 4 × 2</caption>\n",
       "<thead>\n",
       "\t<tr><th></th><th scope=col>Date</th><th scope=col>Dividend</th></tr>\n",
       "\t<tr><th></th><th scope=col>&lt;fct&gt;</th><th scope=col>&lt;dbl&gt;</th></tr>\n",
       "</thead>\n",
       "<tbody>\n",
       "\t<tr><th scope=row>27</th><td>2018-02-08</td><td>1.332663</td></tr>\n",
       "\t<tr><th scope=row>89</th><td>2018-05-09</td><td>1.509362</td></tr>\n",
       "\t<tr><th scope=row>153</th><td>2018-08-09</td><td>1.473684</td></tr>\n",
       "\t<tr><th scope=row>217</th><td>2018-11-08</td><td>1.484723</td></tr>\n",
       "</tbody>\n",
       "</table>\n"
      ],
      "text/latex": [
       "A data.frame: 4 × 2\n",
       "\\begin{tabular}{r|ll}\n",
       "  & Date & Dividend\\\\\n",
       "  & <fct> & <dbl>\\\\\n",
       "\\hline\n",
       "\t27 & 2018-02-08 & 1.332663\\\\\n",
       "\t89 & 2018-05-09 & 1.509362\\\\\n",
       "\t153 & 2018-08-09 & 1.473684\\\\\n",
       "\t217 & 2018-11-08 & 1.484723\\\\\n",
       "\\end{tabular}\n"
      ],
      "text/markdown": [
       "\n",
       "A data.frame: 4 × 2\n",
       "\n",
       "| <!--/--> | Date &lt;fct&gt; | Dividend &lt;dbl&gt; |\n",
       "|---|---|---|\n",
       "| 27 | 2018-02-08 | 1.332663 |\n",
       "| 89 | 2018-05-09 | 1.509362 |\n",
       "| 153 | 2018-08-09 | 1.473684 |\n",
       "| 217 | 2018-11-08 | 1.484723 |\n",
       "\n"
      ],
      "text/plain": [
       "    Date       Dividend\n",
       "27  2018-02-08 1.332663\n",
       "89  2018-05-09 1.509362\n",
       "153 2018-08-09 1.473684\n",
       "217 2018-11-08 1.484723"
      ]
     },
     "metadata": {},
     "output_type": "display_data"
    }
   ],
   "source": [
    "x=select(IBM, Date, Close, Adj.Close)\n",
    "x$ratio_close = x$Close/lag(x$Close,1)\n",
    "x$ratio_adj = x$Adj.Close/lag(x$Adj.Close,1)\n",
    "x$Dividend <- (x$ratio_adj - x$ratio_close)*x$Close\n",
    "y <- x[(x$Dividend > 1.00),]\n",
    "y <- select(y,Date , Dividend)[2:5,]\n",
    "y"
   ]
  },
  {
   "cell_type": "markdown",
   "metadata": {},
   "source": [
    "# MSFT"
   ]
  },
  {
   "cell_type": "code",
   "execution_count": 289,
   "metadata": {},
   "outputs": [
    {
     "data": {
      "text/html": [
       "<table class=\"dataframe\">\n",
       "<caption>A data.frame: 6 × 7</caption>\n",
       "<thead>\n",
       "\t<tr><th></th><th scope=col>Date</th><th scope=col>Open</th><th scope=col>High</th><th scope=col>Low</th><th scope=col>Close</th><th scope=col>Adj.Close</th><th scope=col>Volume</th></tr>\n",
       "\t<tr><th></th><th scope=col>&lt;fct&gt;</th><th scope=col>&lt;dbl&gt;</th><th scope=col>&lt;dbl&gt;</th><th scope=col>&lt;dbl&gt;</th><th scope=col>&lt;dbl&gt;</th><th scope=col>&lt;dbl&gt;</th><th scope=col>&lt;int&gt;</th></tr>\n",
       "</thead>\n",
       "<tbody>\n",
       "\t<tr><th scope=row>1</th><td>2018-01-02</td><td>86.13</td><td>86.31</td><td>85.50</td><td>85.95</td><td>81.84829</td><td>22483800</td></tr>\n",
       "\t<tr><th scope=row>2</th><td>2018-01-03</td><td>86.06</td><td>86.51</td><td>85.97</td><td>86.35</td><td>82.22920</td><td>26061400</td></tr>\n",
       "\t<tr><th scope=row>3</th><td>2018-01-04</td><td>86.59</td><td>87.66</td><td>86.57</td><td>87.11</td><td>82.95293</td><td>21912000</td></tr>\n",
       "\t<tr><th scope=row>4</th><td>2018-01-05</td><td>87.66</td><td>88.41</td><td>87.43</td><td>88.19</td><td>83.98138</td><td>23407100</td></tr>\n",
       "\t<tr><th scope=row>5</th><td>2018-01-08</td><td>88.20</td><td>88.58</td><td>87.60</td><td>88.28</td><td>84.06710</td><td>22113000</td></tr>\n",
       "\t<tr><th scope=row>6</th><td>2018-01-09</td><td>88.65</td><td>88.73</td><td>87.86</td><td>88.22</td><td>84.00996</td><td>19484300</td></tr>\n",
       "</tbody>\n",
       "</table>\n"
      ],
      "text/latex": [
       "A data.frame: 6 × 7\n",
       "\\begin{tabular}{r|lllllll}\n",
       "  & Date & Open & High & Low & Close & Adj.Close & Volume\\\\\n",
       "  & <fct> & <dbl> & <dbl> & <dbl> & <dbl> & <dbl> & <int>\\\\\n",
       "\\hline\n",
       "\t1 & 2018-01-02 & 86.13 & 86.31 & 85.50 & 85.95 & 81.84829 & 22483800\\\\\n",
       "\t2 & 2018-01-03 & 86.06 & 86.51 & 85.97 & 86.35 & 82.22920 & 26061400\\\\\n",
       "\t3 & 2018-01-04 & 86.59 & 87.66 & 86.57 & 87.11 & 82.95293 & 21912000\\\\\n",
       "\t4 & 2018-01-05 & 87.66 & 88.41 & 87.43 & 88.19 & 83.98138 & 23407100\\\\\n",
       "\t5 & 2018-01-08 & 88.20 & 88.58 & 87.60 & 88.28 & 84.06710 & 22113000\\\\\n",
       "\t6 & 2018-01-09 & 88.65 & 88.73 & 87.86 & 88.22 & 84.00996 & 19484300\\\\\n",
       "\\end{tabular}\n"
      ],
      "text/markdown": [
       "\n",
       "A data.frame: 6 × 7\n",
       "\n",
       "| <!--/--> | Date &lt;fct&gt; | Open &lt;dbl&gt; | High &lt;dbl&gt; | Low &lt;dbl&gt; | Close &lt;dbl&gt; | Adj.Close &lt;dbl&gt; | Volume &lt;int&gt; |\n",
       "|---|---|---|---|---|---|---|---|\n",
       "| 1 | 2018-01-02 | 86.13 | 86.31 | 85.50 | 85.95 | 81.84829 | 22483800 |\n",
       "| 2 | 2018-01-03 | 86.06 | 86.51 | 85.97 | 86.35 | 82.22920 | 26061400 |\n",
       "| 3 | 2018-01-04 | 86.59 | 87.66 | 86.57 | 87.11 | 82.95293 | 21912000 |\n",
       "| 4 | 2018-01-05 | 87.66 | 88.41 | 87.43 | 88.19 | 83.98138 | 23407100 |\n",
       "| 5 | 2018-01-08 | 88.20 | 88.58 | 87.60 | 88.28 | 84.06710 | 22113000 |\n",
       "| 6 | 2018-01-09 | 88.65 | 88.73 | 87.86 | 88.22 | 84.00996 | 19484300 |\n",
       "\n"
      ],
      "text/plain": [
       "  Date       Open  High  Low   Close Adj.Close Volume  \n",
       "1 2018-01-02 86.13 86.31 85.50 85.95 81.84829  22483800\n",
       "2 2018-01-03 86.06 86.51 85.97 86.35 82.22920  26061400\n",
       "3 2018-01-04 86.59 87.66 86.57 87.11 82.95293  21912000\n",
       "4 2018-01-05 87.66 88.41 87.43 88.19 83.98138  23407100\n",
       "5 2018-01-08 88.20 88.58 87.60 88.28 84.06710  22113000\n",
       "6 2018-01-09 88.65 88.73 87.86 88.22 84.00996  19484300"
      ]
     },
     "metadata": {},
     "output_type": "display_data"
    }
   ],
   "source": [
    "MSFT <- read.csv(\"MSFT.csv\")\n",
    "head(MSFT)"
   ]
  },
  {
   "cell_type": "code",
   "execution_count": 295,
   "metadata": {},
   "outputs": [
    {
     "data": {
      "text/html": [
       "<table class=\"dataframe\">\n",
       "<caption>A data.frame: 4 × 2</caption>\n",
       "<thead>\n",
       "\t<tr><th></th><th scope=col>Date</th><th scope=col>Dividend</th></tr>\n",
       "\t<tr><th></th><th scope=col>&lt;fct&gt;</th><th scope=col>&lt;dbl&gt;</th></tr>\n",
       "</thead>\n",
       "<tbody>\n",
       "\t<tr><th scope=row>31</th><td>2018-02-14</td><td>0.4312292</td></tr>\n",
       "\t<tr><th scope=row>94</th><td>2018-05-16</td><td>0.4203643</td></tr>\n",
       "\t<tr><th scope=row>157</th><td>2018-08-15</td><td>0.4071340</td></tr>\n",
       "\t<tr><th scope=row>221</th><td>2018-11-14</td><td>0.4451342</td></tr>\n",
       "</tbody>\n",
       "</table>\n"
      ],
      "text/latex": [
       "A data.frame: 4 × 2\n",
       "\\begin{tabular}{r|ll}\n",
       "  & Date & Dividend\\\\\n",
       "  & <fct> & <dbl>\\\\\n",
       "\\hline\n",
       "\t31 & 2018-02-14 & 0.4312292\\\\\n",
       "\t94 & 2018-05-16 & 0.4203643\\\\\n",
       "\t157 & 2018-08-15 & 0.4071340\\\\\n",
       "\t221 & 2018-11-14 & 0.4451342\\\\\n",
       "\\end{tabular}\n"
      ],
      "text/markdown": [
       "\n",
       "A data.frame: 4 × 2\n",
       "\n",
       "| <!--/--> | Date &lt;fct&gt; | Dividend &lt;dbl&gt; |\n",
       "|---|---|---|\n",
       "| 31 | 2018-02-14 | 0.4312292 |\n",
       "| 94 | 2018-05-16 | 0.4203643 |\n",
       "| 157 | 2018-08-15 | 0.4071340 |\n",
       "| 221 | 2018-11-14 | 0.4451342 |\n",
       "\n"
      ],
      "text/plain": [
       "    Date       Dividend \n",
       "31  2018-02-14 0.4312292\n",
       "94  2018-05-16 0.4203643\n",
       "157 2018-08-15 0.4071340\n",
       "221 2018-11-14 0.4451342"
      ]
     },
     "metadata": {},
     "output_type": "display_data"
    }
   ],
   "source": [
    "x=select(MSFT, Date, Close, Adj.Close)\n",
    "x$ratio_close = x$Close/lag(x$Close,1)\n",
    "x$ratio_adj = x$Adj.Close/lag(x$Adj.Close,1)\n",
    "x$Dividend <- (x$ratio_adj - x$ratio_close)*x$Close\n",
    "y <- x[(x$Dividend > 0.04),]\n",
    "y <- select(y,Date , Dividend)[2:5,]\n",
    "y"
   ]
  },
  {
   "cell_type": "markdown",
   "metadata": {},
   "source": [
    "# GOOG"
   ]
  },
  {
   "cell_type": "code",
   "execution_count": 296,
   "metadata": {},
   "outputs": [
    {
     "data": {
      "text/html": [
       "<table class=\"dataframe\">\n",
       "<caption>A data.frame: 6 × 7</caption>\n",
       "<thead>\n",
       "\t<tr><th></th><th scope=col>Date</th><th scope=col>Open</th><th scope=col>High</th><th scope=col>Low</th><th scope=col>Close</th><th scope=col>Adj.Close</th><th scope=col>Volume</th></tr>\n",
       "\t<tr><th></th><th scope=col>&lt;fct&gt;</th><th scope=col>&lt;dbl&gt;</th><th scope=col>&lt;dbl&gt;</th><th scope=col>&lt;dbl&gt;</th><th scope=col>&lt;dbl&gt;</th><th scope=col>&lt;dbl&gt;</th><th scope=col>&lt;int&gt;</th></tr>\n",
       "</thead>\n",
       "<tbody>\n",
       "\t<tr><th scope=row>1</th><td>2018-01-02</td><td>1048.34</td><td>1066.94</td><td>1045.230</td><td>1065.00</td><td>1065.00</td><td>1237600</td></tr>\n",
       "\t<tr><th scope=row>2</th><td>2018-01-03</td><td>1064.31</td><td>1086.29</td><td>1063.210</td><td>1082.48</td><td>1082.48</td><td>1430200</td></tr>\n",
       "\t<tr><th scope=row>3</th><td>2018-01-04</td><td>1088.00</td><td>1093.57</td><td>1084.002</td><td>1086.40</td><td>1086.40</td><td>1004600</td></tr>\n",
       "\t<tr><th scope=row>4</th><td>2018-01-05</td><td>1094.00</td><td>1104.25</td><td>1092.000</td><td>1102.23</td><td>1102.23</td><td>1279100</td></tr>\n",
       "\t<tr><th scope=row>5</th><td>2018-01-08</td><td>1102.23</td><td>1111.27</td><td>1101.620</td><td>1106.94</td><td>1106.94</td><td>1047600</td></tr>\n",
       "\t<tr><th scope=row>6</th><td>2018-01-09</td><td>1109.40</td><td>1110.57</td><td>1101.231</td><td>1106.26</td><td>1106.26</td><td> 902500</td></tr>\n",
       "</tbody>\n",
       "</table>\n"
      ],
      "text/latex": [
       "A data.frame: 6 × 7\n",
       "\\begin{tabular}{r|lllllll}\n",
       "  & Date & Open & High & Low & Close & Adj.Close & Volume\\\\\n",
       "  & <fct> & <dbl> & <dbl> & <dbl> & <dbl> & <dbl> & <int>\\\\\n",
       "\\hline\n",
       "\t1 & 2018-01-02 & 1048.34 & 1066.94 & 1045.230 & 1065.00 & 1065.00 & 1237600\\\\\n",
       "\t2 & 2018-01-03 & 1064.31 & 1086.29 & 1063.210 & 1082.48 & 1082.48 & 1430200\\\\\n",
       "\t3 & 2018-01-04 & 1088.00 & 1093.57 & 1084.002 & 1086.40 & 1086.40 & 1004600\\\\\n",
       "\t4 & 2018-01-05 & 1094.00 & 1104.25 & 1092.000 & 1102.23 & 1102.23 & 1279100\\\\\n",
       "\t5 & 2018-01-08 & 1102.23 & 1111.27 & 1101.620 & 1106.94 & 1106.94 & 1047600\\\\\n",
       "\t6 & 2018-01-09 & 1109.40 & 1110.57 & 1101.231 & 1106.26 & 1106.26 &  902500\\\\\n",
       "\\end{tabular}\n"
      ],
      "text/markdown": [
       "\n",
       "A data.frame: 6 × 7\n",
       "\n",
       "| <!--/--> | Date &lt;fct&gt; | Open &lt;dbl&gt; | High &lt;dbl&gt; | Low &lt;dbl&gt; | Close &lt;dbl&gt; | Adj.Close &lt;dbl&gt; | Volume &lt;int&gt; |\n",
       "|---|---|---|---|---|---|---|---|\n",
       "| 1 | 2018-01-02 | 1048.34 | 1066.94 | 1045.230 | 1065.00 | 1065.00 | 1237600 |\n",
       "| 2 | 2018-01-03 | 1064.31 | 1086.29 | 1063.210 | 1082.48 | 1082.48 | 1430200 |\n",
       "| 3 | 2018-01-04 | 1088.00 | 1093.57 | 1084.002 | 1086.40 | 1086.40 | 1004600 |\n",
       "| 4 | 2018-01-05 | 1094.00 | 1104.25 | 1092.000 | 1102.23 | 1102.23 | 1279100 |\n",
       "| 5 | 2018-01-08 | 1102.23 | 1111.27 | 1101.620 | 1106.94 | 1106.94 | 1047600 |\n",
       "| 6 | 2018-01-09 | 1109.40 | 1110.57 | 1101.231 | 1106.26 | 1106.26 |  902500 |\n",
       "\n"
      ],
      "text/plain": [
       "  Date       Open    High    Low      Close   Adj.Close Volume \n",
       "1 2018-01-02 1048.34 1066.94 1045.230 1065.00 1065.00   1237600\n",
       "2 2018-01-03 1064.31 1086.29 1063.210 1082.48 1082.48   1430200\n",
       "3 2018-01-04 1088.00 1093.57 1084.002 1086.40 1086.40   1004600\n",
       "4 2018-01-05 1094.00 1104.25 1092.000 1102.23 1102.23   1279100\n",
       "5 2018-01-08 1102.23 1111.27 1101.620 1106.94 1106.94   1047600\n",
       "6 2018-01-09 1109.40 1110.57 1101.231 1106.26 1106.26    902500"
      ]
     },
     "metadata": {},
     "output_type": "display_data"
    }
   ],
   "source": [
    "GOOG <- read.csv(\"GOOG.csv\")\n",
    "head(GOOG)"
   ]
  },
  {
   "cell_type": "code",
   "execution_count": 297,
   "metadata": {},
   "outputs": [
    {
     "data": {
      "text/html": [
       "<table class=\"dataframe\">\n",
       "<caption>A data.frame: 4 × 2</caption>\n",
       "<thead>\n",
       "\t<tr><th></th><th scope=col>Date</th><th scope=col>Dividend</th></tr>\n",
       "\t<tr><th></th><th scope=col>&lt;fct&gt;</th><th scope=col>&lt;dbl&gt;</th></tr>\n",
       "</thead>\n",
       "<tbody>\n",
       "\t<tr><th scope=row>NA</th><td>NA</td><td>NA</td></tr>\n",
       "\t<tr><th scope=row>NA.1</th><td>NA</td><td>NA</td></tr>\n",
       "\t<tr><th scope=row>NA.2</th><td>NA</td><td>NA</td></tr>\n",
       "\t<tr><th scope=row>NA.3</th><td>NA</td><td>NA</td></tr>\n",
       "</tbody>\n",
       "</table>\n"
      ],
      "text/latex": [
       "A data.frame: 4 × 2\n",
       "\\begin{tabular}{r|ll}\n",
       "  & Date & Dividend\\\\\n",
       "  & <fct> & <dbl>\\\\\n",
       "\\hline\n",
       "\tNA & NA & NA\\\\\n",
       "\tNA.1 & NA & NA\\\\\n",
       "\tNA.2 & NA & NA\\\\\n",
       "\tNA.3 & NA & NA\\\\\n",
       "\\end{tabular}\n"
      ],
      "text/markdown": [
       "\n",
       "A data.frame: 4 × 2\n",
       "\n",
       "| <!--/--> | Date &lt;fct&gt; | Dividend &lt;dbl&gt; |\n",
       "|---|---|---|\n",
       "| NA | NA | NA |\n",
       "| NA.1 | NA | NA |\n",
       "| NA.2 | NA | NA |\n",
       "| NA.3 | NA | NA |\n",
       "\n"
      ],
      "text/plain": [
       "     Date Dividend\n",
       "NA   NA   NA      \n",
       "NA.1 NA   NA      \n",
       "NA.2 NA   NA      \n",
       "NA.3 NA   NA      "
      ]
     },
     "metadata": {},
     "output_type": "display_data"
    }
   ],
   "source": [
    "x=select(GOOG, Date, Close, Adj.Close)\n",
    "x$ratio_close = x$Close/lag(x$Close,1)\n",
    "x$ratio_adj = x$Adj.Close/lag(x$Adj.Close,1)\n",
    "x$Dividend <- (x$ratio_adj - x$ratio_close)*x$Close\n",
    "y <- x[(x$Dividend > 0.04),]\n",
    "y <- select(y,Date , Dividend)[2:5,]\n",
    "y\n"
   ]
  },
  {
   "cell_type": "markdown",
   "metadata": {},
   "source": [
    "No dividend in GOOGLE for 2018"
   ]
  },
  {
   "cell_type": "markdown",
   "metadata": {},
   "source": [
    "# FB"
   ]
  },
  {
   "cell_type": "code",
   "execution_count": 298,
   "metadata": {},
   "outputs": [
    {
     "data": {
      "text/html": [
       "<table class=\"dataframe\">\n",
       "<caption>A data.frame: 6 × 7</caption>\n",
       "<thead>\n",
       "\t<tr><th></th><th scope=col>Date</th><th scope=col>Open</th><th scope=col>High</th><th scope=col>Low</th><th scope=col>Close</th><th scope=col>Adj.Close</th><th scope=col>Volume</th></tr>\n",
       "\t<tr><th></th><th scope=col>&lt;fct&gt;</th><th scope=col>&lt;dbl&gt;</th><th scope=col>&lt;dbl&gt;</th><th scope=col>&lt;dbl&gt;</th><th scope=col>&lt;dbl&gt;</th><th scope=col>&lt;dbl&gt;</th><th scope=col>&lt;int&gt;</th></tr>\n",
       "</thead>\n",
       "<tbody>\n",
       "\t<tr><th scope=row>1</th><td>2018-01-02</td><td>177.68</td><td>181.58</td><td>177.55</td><td>181.42</td><td>181.42</td><td>18151900</td></tr>\n",
       "\t<tr><th scope=row>2</th><td>2018-01-03</td><td>181.88</td><td>184.78</td><td>181.33</td><td>184.67</td><td>184.67</td><td>16886600</td></tr>\n",
       "\t<tr><th scope=row>3</th><td>2018-01-04</td><td>184.90</td><td>186.21</td><td>184.10</td><td>184.33</td><td>184.33</td><td>13880900</td></tr>\n",
       "\t<tr><th scope=row>4</th><td>2018-01-05</td><td>185.59</td><td>186.90</td><td>184.93</td><td>186.85</td><td>186.85</td><td>13574500</td></tr>\n",
       "\t<tr><th scope=row>5</th><td>2018-01-08</td><td>187.20</td><td>188.90</td><td>186.33</td><td>188.28</td><td>188.28</td><td>17994700</td></tr>\n",
       "\t<tr><th scope=row>6</th><td>2018-01-09</td><td>188.70</td><td>188.80</td><td>187.10</td><td>187.87</td><td>187.87</td><td>12393100</td></tr>\n",
       "</tbody>\n",
       "</table>\n"
      ],
      "text/latex": [
       "A data.frame: 6 × 7\n",
       "\\begin{tabular}{r|lllllll}\n",
       "  & Date & Open & High & Low & Close & Adj.Close & Volume\\\\\n",
       "  & <fct> & <dbl> & <dbl> & <dbl> & <dbl> & <dbl> & <int>\\\\\n",
       "\\hline\n",
       "\t1 & 2018-01-02 & 177.68 & 181.58 & 177.55 & 181.42 & 181.42 & 18151900\\\\\n",
       "\t2 & 2018-01-03 & 181.88 & 184.78 & 181.33 & 184.67 & 184.67 & 16886600\\\\\n",
       "\t3 & 2018-01-04 & 184.90 & 186.21 & 184.10 & 184.33 & 184.33 & 13880900\\\\\n",
       "\t4 & 2018-01-05 & 185.59 & 186.90 & 184.93 & 186.85 & 186.85 & 13574500\\\\\n",
       "\t5 & 2018-01-08 & 187.20 & 188.90 & 186.33 & 188.28 & 188.28 & 17994700\\\\\n",
       "\t6 & 2018-01-09 & 188.70 & 188.80 & 187.10 & 187.87 & 187.87 & 12393100\\\\\n",
       "\\end{tabular}\n"
      ],
      "text/markdown": [
       "\n",
       "A data.frame: 6 × 7\n",
       "\n",
       "| <!--/--> | Date &lt;fct&gt; | Open &lt;dbl&gt; | High &lt;dbl&gt; | Low &lt;dbl&gt; | Close &lt;dbl&gt; | Adj.Close &lt;dbl&gt; | Volume &lt;int&gt; |\n",
       "|---|---|---|---|---|---|---|---|\n",
       "| 1 | 2018-01-02 | 177.68 | 181.58 | 177.55 | 181.42 | 181.42 | 18151900 |\n",
       "| 2 | 2018-01-03 | 181.88 | 184.78 | 181.33 | 184.67 | 184.67 | 16886600 |\n",
       "| 3 | 2018-01-04 | 184.90 | 186.21 | 184.10 | 184.33 | 184.33 | 13880900 |\n",
       "| 4 | 2018-01-05 | 185.59 | 186.90 | 184.93 | 186.85 | 186.85 | 13574500 |\n",
       "| 5 | 2018-01-08 | 187.20 | 188.90 | 186.33 | 188.28 | 188.28 | 17994700 |\n",
       "| 6 | 2018-01-09 | 188.70 | 188.80 | 187.10 | 187.87 | 187.87 | 12393100 |\n",
       "\n"
      ],
      "text/plain": [
       "  Date       Open   High   Low    Close  Adj.Close Volume  \n",
       "1 2018-01-02 177.68 181.58 177.55 181.42 181.42    18151900\n",
       "2 2018-01-03 181.88 184.78 181.33 184.67 184.67    16886600\n",
       "3 2018-01-04 184.90 186.21 184.10 184.33 184.33    13880900\n",
       "4 2018-01-05 185.59 186.90 184.93 186.85 186.85    13574500\n",
       "5 2018-01-08 187.20 188.90 186.33 188.28 188.28    17994700\n",
       "6 2018-01-09 188.70 188.80 187.10 187.87 187.87    12393100"
      ]
     },
     "metadata": {},
     "output_type": "display_data"
    }
   ],
   "source": [
    "FB <- read.csv(\"FB.csv\")\n",
    "head(FB)"
   ]
  },
  {
   "cell_type": "code",
   "execution_count": 299,
   "metadata": {},
   "outputs": [
    {
     "data": {
      "text/html": [
       "<table class=\"dataframe\">\n",
       "<caption>A data.frame: 4 × 2</caption>\n",
       "<thead>\n",
       "\t<tr><th></th><th scope=col>Date</th><th scope=col>Dividend</th></tr>\n",
       "\t<tr><th></th><th scope=col>&lt;fct&gt;</th><th scope=col>&lt;dbl&gt;</th></tr>\n",
       "</thead>\n",
       "<tbody>\n",
       "\t<tr><th scope=row>NA</th><td>NA</td><td>NA</td></tr>\n",
       "\t<tr><th scope=row>NA.1</th><td>NA</td><td>NA</td></tr>\n",
       "\t<tr><th scope=row>NA.2</th><td>NA</td><td>NA</td></tr>\n",
       "\t<tr><th scope=row>NA.3</th><td>NA</td><td>NA</td></tr>\n",
       "</tbody>\n",
       "</table>\n"
      ],
      "text/latex": [
       "A data.frame: 4 × 2\n",
       "\\begin{tabular}{r|ll}\n",
       "  & Date & Dividend\\\\\n",
       "  & <fct> & <dbl>\\\\\n",
       "\\hline\n",
       "\tNA & NA & NA\\\\\n",
       "\tNA.1 & NA & NA\\\\\n",
       "\tNA.2 & NA & NA\\\\\n",
       "\tNA.3 & NA & NA\\\\\n",
       "\\end{tabular}\n"
      ],
      "text/markdown": [
       "\n",
       "A data.frame: 4 × 2\n",
       "\n",
       "| <!--/--> | Date &lt;fct&gt; | Dividend &lt;dbl&gt; |\n",
       "|---|---|---|\n",
       "| NA | NA | NA |\n",
       "| NA.1 | NA | NA |\n",
       "| NA.2 | NA | NA |\n",
       "| NA.3 | NA | NA |\n",
       "\n"
      ],
      "text/plain": [
       "     Date Dividend\n",
       "NA   NA   NA      \n",
       "NA.1 NA   NA      \n",
       "NA.2 NA   NA      \n",
       "NA.3 NA   NA      "
      ]
     },
     "metadata": {},
     "output_type": "display_data"
    }
   ],
   "source": [
    "x=select(FB, Date, Close, Adj.Close)\n",
    "x$ratio_close = x$Close/lag(x$Close,1)\n",
    "x$ratio_adj = x$Adj.Close/lag(x$Adj.Close,1)\n",
    "x$Dividend <- (x$ratio_adj - x$ratio_close)*x$Close\n",
    "y <- x[(x$Dividend > 0.04),]\n",
    "y <- select(y,Date , Dividend)[2:5,]\n",
    "y"
   ]
  },
  {
   "cell_type": "markdown",
   "metadata": {},
   "source": [
    "No dividend in FB for 2018"
   ]
  },
  {
   "cell_type": "markdown",
   "metadata": {},
   "source": [
    "# AAPL"
   ]
  },
  {
   "cell_type": "code",
   "execution_count": 300,
   "metadata": {},
   "outputs": [
    {
     "data": {
      "text/html": [
       "<table class=\"dataframe\">\n",
       "<caption>A data.frame: 6 × 7</caption>\n",
       "<thead>\n",
       "\t<tr><th></th><th scope=col>Date</th><th scope=col>Open</th><th scope=col>High</th><th scope=col>Low</th><th scope=col>Close</th><th scope=col>Adj.Close</th><th scope=col>Volume</th></tr>\n",
       "\t<tr><th></th><th scope=col>&lt;fct&gt;</th><th scope=col>&lt;dbl&gt;</th><th scope=col>&lt;dbl&gt;</th><th scope=col>&lt;dbl&gt;</th><th scope=col>&lt;dbl&gt;</th><th scope=col>&lt;dbl&gt;</th><th scope=col>&lt;int&gt;</th></tr>\n",
       "</thead>\n",
       "<tbody>\n",
       "\t<tr><th scope=row>1</th><td>2018-01-02</td><td>42.5400</td><td>43.0750</td><td>42.3150</td><td>43.0650</td><td>41.24827</td><td>102223600</td></tr>\n",
       "\t<tr><th scope=row>2</th><td>2018-01-03</td><td>43.1325</td><td>43.6375</td><td>42.9900</td><td>43.0575</td><td>41.24109</td><td>118071600</td></tr>\n",
       "\t<tr><th scope=row>3</th><td>2018-01-04</td><td>43.1350</td><td>43.3675</td><td>43.0200</td><td>43.2575</td><td>41.43266</td><td> 89738400</td></tr>\n",
       "\t<tr><th scope=row>4</th><td>2018-01-05</td><td>43.3600</td><td>43.8425</td><td>43.2625</td><td>43.7500</td><td>41.90438</td><td> 94640000</td></tr>\n",
       "\t<tr><th scope=row>5</th><td>2018-01-08</td><td>43.5875</td><td>43.9025</td><td>43.4825</td><td>43.5875</td><td>41.74874</td><td> 82271200</td></tr>\n",
       "\t<tr><th scope=row>6</th><td>2018-01-09</td><td>43.6375</td><td>43.7650</td><td>43.3525</td><td>43.5825</td><td>41.74395</td><td> 86336000</td></tr>\n",
       "</tbody>\n",
       "</table>\n"
      ],
      "text/latex": [
       "A data.frame: 6 × 7\n",
       "\\begin{tabular}{r|lllllll}\n",
       "  & Date & Open & High & Low & Close & Adj.Close & Volume\\\\\n",
       "  & <fct> & <dbl> & <dbl> & <dbl> & <dbl> & <dbl> & <int>\\\\\n",
       "\\hline\n",
       "\t1 & 2018-01-02 & 42.5400 & 43.0750 & 42.3150 & 43.0650 & 41.24827 & 102223600\\\\\n",
       "\t2 & 2018-01-03 & 43.1325 & 43.6375 & 42.9900 & 43.0575 & 41.24109 & 118071600\\\\\n",
       "\t3 & 2018-01-04 & 43.1350 & 43.3675 & 43.0200 & 43.2575 & 41.43266 &  89738400\\\\\n",
       "\t4 & 2018-01-05 & 43.3600 & 43.8425 & 43.2625 & 43.7500 & 41.90438 &  94640000\\\\\n",
       "\t5 & 2018-01-08 & 43.5875 & 43.9025 & 43.4825 & 43.5875 & 41.74874 &  82271200\\\\\n",
       "\t6 & 2018-01-09 & 43.6375 & 43.7650 & 43.3525 & 43.5825 & 41.74395 &  86336000\\\\\n",
       "\\end{tabular}\n"
      ],
      "text/markdown": [
       "\n",
       "A data.frame: 6 × 7\n",
       "\n",
       "| <!--/--> | Date &lt;fct&gt; | Open &lt;dbl&gt; | High &lt;dbl&gt; | Low &lt;dbl&gt; | Close &lt;dbl&gt; | Adj.Close &lt;dbl&gt; | Volume &lt;int&gt; |\n",
       "|---|---|---|---|---|---|---|---|\n",
       "| 1 | 2018-01-02 | 42.5400 | 43.0750 | 42.3150 | 43.0650 | 41.24827 | 102223600 |\n",
       "| 2 | 2018-01-03 | 43.1325 | 43.6375 | 42.9900 | 43.0575 | 41.24109 | 118071600 |\n",
       "| 3 | 2018-01-04 | 43.1350 | 43.3675 | 43.0200 | 43.2575 | 41.43266 |  89738400 |\n",
       "| 4 | 2018-01-05 | 43.3600 | 43.8425 | 43.2625 | 43.7500 | 41.90438 |  94640000 |\n",
       "| 5 | 2018-01-08 | 43.5875 | 43.9025 | 43.4825 | 43.5875 | 41.74874 |  82271200 |\n",
       "| 6 | 2018-01-09 | 43.6375 | 43.7650 | 43.3525 | 43.5825 | 41.74395 |  86336000 |\n",
       "\n"
      ],
      "text/plain": [
       "  Date       Open    High    Low     Close   Adj.Close Volume   \n",
       "1 2018-01-02 42.5400 43.0750 42.3150 43.0650 41.24827  102223600\n",
       "2 2018-01-03 43.1325 43.6375 42.9900 43.0575 41.24109  118071600\n",
       "3 2018-01-04 43.1350 43.3675 43.0200 43.2575 41.43266   89738400\n",
       "4 2018-01-05 43.3600 43.8425 43.2625 43.7500 41.90438   94640000\n",
       "5 2018-01-08 43.5875 43.9025 43.4825 43.5875 41.74874   82271200\n",
       "6 2018-01-09 43.6375 43.7650 43.3525 43.5825 41.74395   86336000"
      ]
     },
     "metadata": {},
     "output_type": "display_data"
    }
   ],
   "source": [
    "AAPL <- read.csv(\"AAPL.csv\")\n",
    "head(AAPL)"
   ]
  },
  {
   "cell_type": "code",
   "execution_count": 305,
   "metadata": {},
   "outputs": [
    {
     "data": {
      "text/html": [
       "<table class=\"dataframe\">\n",
       "<caption>A data.frame: 4 × 2</caption>\n",
       "<thead>\n",
       "\t<tr><th></th><th scope=col>Date</th><th scope=col>Dividend</th></tr>\n",
       "\t<tr><th></th><th scope=col>&lt;fct&gt;</th><th scope=col>&lt;dbl&gt;</th></tr>\n",
       "</thead>\n",
       "<tbody>\n",
       "\t<tr><th scope=row>28</th><td>2018-02-09</td><td>0.1607166</td></tr>\n",
       "\t<tr><th scope=row>91</th><td>2018-05-11</td><td>0.1804198</td></tr>\n",
       "\t<tr><th scope=row>154</th><td>2018-08-10</td><td>0.1807785</td></tr>\n",
       "\t<tr><th scope=row>217</th><td>2018-11-08</td><td>0.1805970</td></tr>\n",
       "</tbody>\n",
       "</table>\n"
      ],
      "text/latex": [
       "A data.frame: 4 × 2\n",
       "\\begin{tabular}{r|ll}\n",
       "  & Date & Dividend\\\\\n",
       "  & <fct> & <dbl>\\\\\n",
       "\\hline\n",
       "\t28 & 2018-02-09 & 0.1607166\\\\\n",
       "\t91 & 2018-05-11 & 0.1804198\\\\\n",
       "\t154 & 2018-08-10 & 0.1807785\\\\\n",
       "\t217 & 2018-11-08 & 0.1805970\\\\\n",
       "\\end{tabular}\n"
      ],
      "text/markdown": [
       "\n",
       "A data.frame: 4 × 2\n",
       "\n",
       "| <!--/--> | Date &lt;fct&gt; | Dividend &lt;dbl&gt; |\n",
       "|---|---|---|\n",
       "| 28 | 2018-02-09 | 0.1607166 |\n",
       "| 91 | 2018-05-11 | 0.1804198 |\n",
       "| 154 | 2018-08-10 | 0.1807785 |\n",
       "| 217 | 2018-11-08 | 0.1805970 |\n",
       "\n"
      ],
      "text/plain": [
       "    Date       Dividend \n",
       "28  2018-02-09 0.1607166\n",
       "91  2018-05-11 0.1804198\n",
       "154 2018-08-10 0.1807785\n",
       "217 2018-11-08 0.1805970"
      ]
     },
     "metadata": {},
     "output_type": "display_data"
    }
   ],
   "source": [
    "x=select(AAPL, Date, Close, Adj.Close)\n",
    "x$ratio_close = x$Close/lag(x$Close,1)\n",
    "x$ratio_adj = x$Adj.Close/lag(x$Adj.Close,1)\n",
    "x$Dividend <- (x$ratio_adj - x$ratio_close)*x$Close\n",
    "y <- x[(x$Dividend > 0.1),]\n",
    "y <- select(y,Date , Dividend)[2:5,]\n",
    "y"
   ]
  },
  {
   "cell_type": "code",
   "execution_count": null,
   "metadata": {},
   "outputs": [],
   "source": []
  },
  {
   "cell_type": "markdown",
   "metadata": {},
   "source": [
    "# AMZN"
   ]
  },
  {
   "cell_type": "code",
   "execution_count": 306,
   "metadata": {},
   "outputs": [
    {
     "data": {
      "text/html": [
       "<table class=\"dataframe\">\n",
       "<caption>A data.frame: 6 × 7</caption>\n",
       "<thead>\n",
       "\t<tr><th></th><th scope=col>Date</th><th scope=col>Open</th><th scope=col>High</th><th scope=col>Low</th><th scope=col>Close</th><th scope=col>Adj.Close</th><th scope=col>Volume</th></tr>\n",
       "\t<tr><th></th><th scope=col>&lt;fct&gt;</th><th scope=col>&lt;dbl&gt;</th><th scope=col>&lt;dbl&gt;</th><th scope=col>&lt;dbl&gt;</th><th scope=col>&lt;dbl&gt;</th><th scope=col>&lt;dbl&gt;</th><th scope=col>&lt;int&gt;</th></tr>\n",
       "</thead>\n",
       "<tbody>\n",
       "\t<tr><th scope=row>1</th><td>2018-01-02</td><td>1172.00</td><td>1190.00</td><td>1170.51</td><td>1189.01</td><td>1189.01</td><td>2694500</td></tr>\n",
       "\t<tr><th scope=row>2</th><td>2018-01-03</td><td>1188.30</td><td>1205.49</td><td>1188.30</td><td>1204.20</td><td>1204.20</td><td>3108800</td></tr>\n",
       "\t<tr><th scope=row>3</th><td>2018-01-04</td><td>1205.00</td><td>1215.87</td><td>1204.66</td><td>1209.59</td><td>1209.59</td><td>3022100</td></tr>\n",
       "\t<tr><th scope=row>4</th><td>2018-01-05</td><td>1217.51</td><td>1229.14</td><td>1210.00</td><td>1229.14</td><td>1229.14</td><td>3544700</td></tr>\n",
       "\t<tr><th scope=row>5</th><td>2018-01-08</td><td>1236.00</td><td>1253.08</td><td>1232.03</td><td>1246.87</td><td>1246.87</td><td>4279500</td></tr>\n",
       "\t<tr><th scope=row>6</th><td>2018-01-09</td><td>1256.90</td><td>1259.33</td><td>1241.76</td><td>1252.70</td><td>1252.70</td><td>3661300</td></tr>\n",
       "</tbody>\n",
       "</table>\n"
      ],
      "text/latex": [
       "A data.frame: 6 × 7\n",
       "\\begin{tabular}{r|lllllll}\n",
       "  & Date & Open & High & Low & Close & Adj.Close & Volume\\\\\n",
       "  & <fct> & <dbl> & <dbl> & <dbl> & <dbl> & <dbl> & <int>\\\\\n",
       "\\hline\n",
       "\t1 & 2018-01-02 & 1172.00 & 1190.00 & 1170.51 & 1189.01 & 1189.01 & 2694500\\\\\n",
       "\t2 & 2018-01-03 & 1188.30 & 1205.49 & 1188.30 & 1204.20 & 1204.20 & 3108800\\\\\n",
       "\t3 & 2018-01-04 & 1205.00 & 1215.87 & 1204.66 & 1209.59 & 1209.59 & 3022100\\\\\n",
       "\t4 & 2018-01-05 & 1217.51 & 1229.14 & 1210.00 & 1229.14 & 1229.14 & 3544700\\\\\n",
       "\t5 & 2018-01-08 & 1236.00 & 1253.08 & 1232.03 & 1246.87 & 1246.87 & 4279500\\\\\n",
       "\t6 & 2018-01-09 & 1256.90 & 1259.33 & 1241.76 & 1252.70 & 1252.70 & 3661300\\\\\n",
       "\\end{tabular}\n"
      ],
      "text/markdown": [
       "\n",
       "A data.frame: 6 × 7\n",
       "\n",
       "| <!--/--> | Date &lt;fct&gt; | Open &lt;dbl&gt; | High &lt;dbl&gt; | Low &lt;dbl&gt; | Close &lt;dbl&gt; | Adj.Close &lt;dbl&gt; | Volume &lt;int&gt; |\n",
       "|---|---|---|---|---|---|---|---|\n",
       "| 1 | 2018-01-02 | 1172.00 | 1190.00 | 1170.51 | 1189.01 | 1189.01 | 2694500 |\n",
       "| 2 | 2018-01-03 | 1188.30 | 1205.49 | 1188.30 | 1204.20 | 1204.20 | 3108800 |\n",
       "| 3 | 2018-01-04 | 1205.00 | 1215.87 | 1204.66 | 1209.59 | 1209.59 | 3022100 |\n",
       "| 4 | 2018-01-05 | 1217.51 | 1229.14 | 1210.00 | 1229.14 | 1229.14 | 3544700 |\n",
       "| 5 | 2018-01-08 | 1236.00 | 1253.08 | 1232.03 | 1246.87 | 1246.87 | 4279500 |\n",
       "| 6 | 2018-01-09 | 1256.90 | 1259.33 | 1241.76 | 1252.70 | 1252.70 | 3661300 |\n",
       "\n"
      ],
      "text/plain": [
       "  Date       Open    High    Low     Close   Adj.Close Volume \n",
       "1 2018-01-02 1172.00 1190.00 1170.51 1189.01 1189.01   2694500\n",
       "2 2018-01-03 1188.30 1205.49 1188.30 1204.20 1204.20   3108800\n",
       "3 2018-01-04 1205.00 1215.87 1204.66 1209.59 1209.59   3022100\n",
       "4 2018-01-05 1217.51 1229.14 1210.00 1229.14 1229.14   3544700\n",
       "5 2018-01-08 1236.00 1253.08 1232.03 1246.87 1246.87   4279500\n",
       "6 2018-01-09 1256.90 1259.33 1241.76 1252.70 1252.70   3661300"
      ]
     },
     "metadata": {},
     "output_type": "display_data"
    }
   ],
   "source": [
    "AMZN <- read.csv(\"AMZN.csv\")\n",
    "head(AMZN)"
   ]
  },
  {
   "cell_type": "code",
   "execution_count": 308,
   "metadata": {},
   "outputs": [
    {
     "data": {
      "text/html": [
       "<table class=\"dataframe\">\n",
       "<caption>A data.frame: 4 × 2</caption>\n",
       "<thead>\n",
       "\t<tr><th></th><th scope=col>Date</th><th scope=col>Dividend</th></tr>\n",
       "\t<tr><th></th><th scope=col>&lt;fct&gt;</th><th scope=col>&lt;dbl&gt;</th></tr>\n",
       "</thead>\n",
       "<tbody>\n",
       "\t<tr><th scope=row>NA</th><td>NA</td><td>NA</td></tr>\n",
       "\t<tr><th scope=row>NA.1</th><td>NA</td><td>NA</td></tr>\n",
       "\t<tr><th scope=row>NA.2</th><td>NA</td><td>NA</td></tr>\n",
       "\t<tr><th scope=row>NA.3</th><td>NA</td><td>NA</td></tr>\n",
       "</tbody>\n",
       "</table>\n"
      ],
      "text/latex": [
       "A data.frame: 4 × 2\n",
       "\\begin{tabular}{r|ll}\n",
       "  & Date & Dividend\\\\\n",
       "  & <fct> & <dbl>\\\\\n",
       "\\hline\n",
       "\tNA & NA & NA\\\\\n",
       "\tNA.1 & NA & NA\\\\\n",
       "\tNA.2 & NA & NA\\\\\n",
       "\tNA.3 & NA & NA\\\\\n",
       "\\end{tabular}\n"
      ],
      "text/markdown": [
       "\n",
       "A data.frame: 4 × 2\n",
       "\n",
       "| <!--/--> | Date &lt;fct&gt; | Dividend &lt;dbl&gt; |\n",
       "|---|---|---|\n",
       "| NA | NA | NA |\n",
       "| NA.1 | NA | NA |\n",
       "| NA.2 | NA | NA |\n",
       "| NA.3 | NA | NA |\n",
       "\n"
      ],
      "text/plain": [
       "     Date Dividend\n",
       "NA   NA   NA      \n",
       "NA.1 NA   NA      \n",
       "NA.2 NA   NA      \n",
       "NA.3 NA   NA      "
      ]
     },
     "metadata": {},
     "output_type": "display_data"
    }
   ],
   "source": [
    "x=select(AMZN, Date, Close, Adj.Close)\n",
    "x$ratio_close = x$Close/lag(x$Close,1)\n",
    "x$ratio_adj = x$Adj.Close/lag(x$Adj.Close,1)\n",
    "x$Dividend <- (x$ratio_adj - x$ratio_close)*x$Close\n",
    "y <- x[(x$Dividend > 0.1),]\n",
    "y <- select(y,Date , Dividend)[2:5,]\n",
    "y\n"
   ]
  },
  {
   "cell_type": "markdown",
   "metadata": {},
   "source": [
    "No dividend in AMZN for 2018"
   ]
  }
 ],
 "metadata": {
  "kernelspec": {
   "display_name": "R",
   "language": "R",
   "name": "ir"
  },
  "language_info": {
   "codemirror_mode": "r",
   "file_extension": ".r",
   "mimetype": "text/x-r-source",
   "name": "R",
   "pygments_lexer": "r",
   "version": "3.6.1"
  },
  "toc": {
   "base_numbering": 1,
   "nav_menu": {},
   "number_sections": true,
   "sideBar": true,
   "skip_h1_title": false,
   "title_cell": "Table of Contents",
   "title_sidebar": "Contents",
   "toc_cell": false,
   "toc_position": {},
   "toc_section_display": true,
   "toc_window_display": true
  }
 },
 "nbformat": 4,
 "nbformat_minor": 4
}
